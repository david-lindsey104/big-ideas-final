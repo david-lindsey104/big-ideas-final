{
 "cells": [
  {
   "cell_type": "markdown",
   "metadata": {},
   "source": [
    "## The Idea Behind the Metric\n",
    "    -The more hospitals in a given neighborhood means more care access to an individual. The more care access there is, the more likely the citizens of that neighborhood will be in good health."
   ]
  },
  {
   "cell_type": "markdown",
   "metadata": {},
   "source": [
    "## How it is measured?\n",
    "    - We first will look at the lattitude and logitude of a given hospital. Using \"fpsnippets\" we will estimate the lattitude and longitude to a neighborhood location. We will then create a dictionary of neighborhoods as the key and adding a value to the key everytime a hospital is located in that neighborhood. We will then create a bar graph using neighborhoods as the \"x\" value and the number of hospitals as the \"y\" value to represent my data."
   ]
  },
  {
   "cell_type": "code",
   "execution_count": 2,
   "metadata": {},
   "outputs": [],
   "source": [
    "import fpsnippets\n",
    "import pandas\n"
   ]
  },
  {
   "cell_type": "code",
   "execution_count": null,
   "metadata": {},
   "outputs": [],
   "source": []
  }
 ],
 "metadata": {
  "kernelspec": {
   "display_name": "Python 3",
   "language": "python",
   "name": "python3"
  },
  "language_info": {
   "codemirror_mode": {
    "name": "ipython",
    "version": 3
   },
   "file_extension": ".py",
   "mimetype": "text/x-python",
   "name": "python",
   "nbconvert_exporter": "python",
   "pygments_lexer": "ipython3",
   "version": "3.8.3"
  }
 },
 "nbformat": 4,
 "nbformat_minor": 4
}
