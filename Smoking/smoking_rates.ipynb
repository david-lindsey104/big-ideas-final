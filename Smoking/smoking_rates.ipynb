{
 "cells": [
  {
   "cell_type": "markdown",
   "metadata": {},
   "source": [
    "# The Idea Behind the Metric\n",
    "    - We are taking a look at a smoking rates census taken from 2006 to 2010. I would imagine that data has not changed too much since then, therefore it is still relevent. The higher the smoking rate in a given neighborhood, the less healthy that neighborhood is considered. I will convert the census data into a data frame, taking the average of each neighborhood's smoking rates. I will then create a graph to display the data."
   ]
  },
  {
   "cell_type": "code",
   "execution_count": 2,
   "metadata": {},
   "outputs": [],
   "source": [
    "import fpsnippets as fp\n",
    "import pandas as pd\n",
    "import numpy as np\n",
    "import geopandas\n",
    "%matplotlib inline\n",
    "import matplotlib.pyplot as plt"
   ]
  },
  {
   "cell_type": "code",
   "execution_count": 3,
   "metadata": {},
   "outputs": [
    {
     "name": "stdout",
     "output_type": "stream",
     "text": [
      "{'Bedford Dwellings': [3.6726457149999994, 16], 'Middle Hill': [1.4719761820000001, 6], 'North Oakland': [3.6726457149999994, 16], 'Lower Lawrenceville': [6.478483086000001, 27], 'Bluff': [3.6726457149999994, 16], 'Polish Hill': [5.946294654000001, 25], 'Central Business District': [1.4719761820000001, 6], 'South Side Slopes': [5.820750248, 22], 'West End': [4.368284642, 19], 'Crawford-Roberts': [1.4719761820000001, 6], 'South Oakland': [4.158892527999999, 18], 'Upper Hill': [3.6726457149999994, 16], 'South Shore': [3.6503704330000004, 15], 'Chateau': [5.421161643000001, 21], 'West Oakland': [3.6726457149999994, 16], 'Strip District': [3.7456251210000002, 15], 'Terrace Village': [3.6726457149999994, 16], 'South Side Flats': [5.820750248, 22], 'Garfield': [6.330560320000001, 29], 'East Liberty': [6.496116527999999, 30], 'Morningside': [5.798371888000001, 27], 'Bloomfield': [8.696786061, 40], 'Central Lawrenceville': [2.805837371, 11], 'Stanton Heights': [6.330560320000001, 29], 'Upper Lawrenceville': [2.273648939, 9], 'Squirrel Hill North': [6.892008810000001, 35], 'Greenfield': [3.6879764660000003, 18], 'Central Oakland': [2.200669533, 10], 'Hazelwood': [3.6879764660000003, 18], 'Shadyside': [7.791663344000002, 38], 'Squirrel Hill South': [6.405119609000001, 31], 'Friendship': [3.6902791570000004, 19], 'Point Breeze': [7.077550918000001, 37], 'Point Breeze North': [5.910934590000001, 30], 'Homewood North': [6.900168773000002, 34], 'Larimer': [4.893249171000001, 25], 'Lincoln-Lemington-Belmar': [8.741960549, 42], 'Highland Park': [3.5247229490000005, 18], 'Homewood West': [4.893249171000001, 25], 'Marshall-Shadeland': [7.6437955880000015, 30], 'Brighton Heights': [7.6437955880000015, 30], 'Homewood South': [2.386211641, 12], 'East Hills': [3.3754458240000007, 16], 'Glen Hazel': [1.487306933, 8], 'Swisshelm Park': [2.7005178439999993, 14], 'Regent Square': [3.7182032629999995, 19], 'Lincoln Place': [3.592960949, 14], 'Hays': [8.290940574, 32], 'New Homestead': [2.816414416, 11], 'Arlington Heights': [4.348774066, 16], 'Allentown': [4.811769409999999, 18], 'Arlington': [4.348774066, 16], 'Mount Washington': [8.216629170000001, 33], 'Knoxville': [2.7512796390000003, 10], 'Brookline': [6.4812779990000005, 26], 'Beltzhoover': [3.722826283, 14], 'Bon Air': [3.2598309390000004, 12], 'Overbrook': [5.159151203000002, 20], 'Carrick': [4.716108123000001, 18], 'Mt. Oliver': [2.7512796390000003, 10], 'St. Clair': [4.207556823000001, 16], 'Duquesne Heights': [3.3593038039999996, 15], 'Banksville': [2.89630846, 13], 'Ridgemont': [2.89630846, 13], 'Beechview': [3.4048597599999995, 15], 'Fairywood': [2.9185470469999997, 11], 'Crafton Heights': [1.913031432, 8], 'Chartiers City': [0.5275475700000001, 2], 'Esplen': [1.650967665, 6], 'Sheraden': [0.64545205, 3], 'Windgap': [2.9185470469999997, 11], 'Elliott': [0.64545205, 3], 'North Shore': [3.9491854610000003, 15], 'Allegheny West': [3.9491854610000003, 15], 'Manchester': [3.9491854610000003, 15], 'Central Northside': [4.774010066, 18], 'Allegheny Center': [3.9491854610000003, 15], 'California-Kirkbride': [3.9491854610000003, 15], 'Perry North': [4.569806756999999, 17], 'Northview Heights': [4.569806756999999, 17], 'East Allegheny': [3.744982152, 14], 'Troy Hill': [5.396037969, 20], 'Spring Hill-City View': [4.569806756999999, 17], 'Spring Garden': [3.744982152, 14], 'Perry South': [4.569806756999999, 17], 'Fineview': [4.569806756999999, 17], 'Summer Hill': [0.8248246050000001, 3], 'Oakwood': [1.267579382, 5], 'Westwood': [1.385483862, 6], 'East Carnegie': [2.8059742610000002, 11]}\n"
     ]
    }
   ],
   "source": [
    "smoking_rates = pd.read_csv(\"smoking_data.csv\")\n",
    "\n",
    "neighborhood_data = dict()\n",
    "i = 0\n",
    "\n",
    "while i < len(smoking_rates):\n",
    "    \n",
    "    census_data = fp.census_to_neighborhoods(smoking_rates.at[i, 'tractfips'])\n",
    "    \n",
    "    if census_data == None:\n",
    "        i+=1\n",
    "        continue\n",
    "    \n",
    "    else:\n",
    "        for hood_name in census_data:\n",
    "\n",
    "            if hood_name in neighborhood_data:\n",
    "                neighborhood_data[hood_name][0] = neighborhood_data[hood_name][0] + smoking_rates.at[i, 'estimated smoking prevalence, 2006-2010']\n",
    "                neighborhood_data[hood_name][1] = neighborhood_data[hood_name][1] + 1\n",
    "\n",
    "            else:\n",
    "                neighborhood_data[hood_name] = [smoking_rates.at[i, 'estimated smoking prevalence, 2006-2010'], 1]\n",
    "        i+=1\n",
    "        \n",
    "    \n",
    "print(neighborhood_data)"
   ]
  },
  {
   "cell_type": "markdown",
   "metadata": {},
   "source": [
    "# Interpreting this Code:\n",
    "    - I am adding every name of the neighborhood to a dictionary as a key. Then, I am setting the value of that key as a list. The first item in the list is the sum of the smoking rates data gathered for that neighborhood and the second item is how many times data from that neighborhood was collected. Essentially, I will take the average of the sum of the smoking rate with how many times the data from that neighborhood was taken to get the average smoking rate per-neighborhood."
   ]
  },
  {
   "cell_type": "code",
   "execution_count": 33,
   "metadata": {},
   "outputs": [
    {
     "data": {
      "text/html": [
       "<div>\n",
       "<style scoped>\n",
       "    .dataframe tbody tr th:only-of-type {\n",
       "        vertical-align: middle;\n",
       "    }\n",
       "\n",
       "    .dataframe tbody tr th {\n",
       "        vertical-align: top;\n",
       "    }\n",
       "\n",
       "    .dataframe thead th {\n",
       "        text-align: right;\n",
       "    }\n",
       "</style>\n",
       "<table border=\"1\" class=\"dataframe\">\n",
       "  <thead>\n",
       "    <tr style=\"text-align: right;\">\n",
       "      <th></th>\n",
       "      <th>hoods</th>\n",
       "      <th>avg smoking rate</th>\n",
       "    </tr>\n",
       "  </thead>\n",
       "  <tbody>\n",
       "    <tr>\n",
       "      <th>43</th>\n",
       "      <td>Glen Hazel</td>\n",
       "      <td>0.185913</td>\n",
       "    </tr>\n",
       "    <tr>\n",
       "      <th>32</th>\n",
       "      <td>Point Breeze</td>\n",
       "      <td>0.191285</td>\n",
       "    </tr>\n",
       "    <tr>\n",
       "      <th>44</th>\n",
       "      <td>Swisshelm Park</td>\n",
       "      <td>0.192894</td>\n",
       "    </tr>\n",
       "    <tr>\n",
       "      <th>31</th>\n",
       "      <td>Friendship</td>\n",
       "      <td>0.194225</td>\n",
       "    </tr>\n",
       "    <tr>\n",
       "      <th>45</th>\n",
       "      <td>Regent Square</td>\n",
       "      <td>0.195695</td>\n",
       "    </tr>\n",
       "    <tr>\n",
       "      <th>...</th>\n",
       "      <td>...</td>\n",
       "      <td>...</td>\n",
       "    </tr>\n",
       "    <tr>\n",
       "      <th>49</th>\n",
       "      <td>Arlington Heights</td>\n",
       "      <td>0.271798</td>\n",
       "    </tr>\n",
       "    <tr>\n",
       "      <th>86</th>\n",
       "      <td>Summer Hill</td>\n",
       "      <td>0.274942</td>\n",
       "    </tr>\n",
       "    <tr>\n",
       "      <th>53</th>\n",
       "      <td>Knoxville</td>\n",
       "      <td>0.275128</td>\n",
       "    </tr>\n",
       "    <tr>\n",
       "      <th>59</th>\n",
       "      <td>Mt. Oliver</td>\n",
       "      <td>0.275128</td>\n",
       "    </tr>\n",
       "    <tr>\n",
       "      <th>68</th>\n",
       "      <td>Esplen</td>\n",
       "      <td>0.275161</td>\n",
       "    </tr>\n",
       "  </tbody>\n",
       "</table>\n",
       "<p>90 rows × 2 columns</p>\n",
       "</div>"
      ],
      "text/plain": [
       "                hoods  avg smoking rate\n",
       "43         Glen Hazel          0.185913\n",
       "32       Point Breeze          0.191285\n",
       "44     Swisshelm Park          0.192894\n",
       "31         Friendship          0.194225\n",
       "45      Regent Square          0.195695\n",
       "..                ...               ...\n",
       "49  Arlington Heights          0.271798\n",
       "86        Summer Hill          0.274942\n",
       "53          Knoxville          0.275128\n",
       "59         Mt. Oliver          0.275128\n",
       "68             Esplen          0.275161\n",
       "\n",
       "[90 rows x 2 columns]"
      ]
     },
     "metadata": {},
     "output_type": "display_data"
    }
   ],
   "source": [
    "temp_dict = dict()\n",
    "temp_list = list()\n",
    "\n",
    "for key in neighborhood_data:\n",
    "    temp_dict[key] = neighborhood_data[key][0] / neighborhood_data[key][1]\n",
    "\n",
    "smoking = pd.DataFrame(\n",
    "    {\n",
    "        'hoods' : temp_dict.keys(),\n",
    "        'avg smoking rate' : temp_dict.values()\n",
    "    }\n",
    ")\n",
    "\n",
    "sorted_smoking = smoking.sort_values('avg smoking rate', ascending = True)\n",
    "display(sorted_smoking)"
   ]
  },
  {
   "cell_type": "markdown",
   "metadata": {},
   "source": [
    "# Converting the dictionary to a Dataframe:\n",
    "    - After getting the average smoking rate, I am adding the average to a temporary dictionary with a key of the same neighborhood. I will then use this temporary dictionary to create my dataframe. I also sorted the dataframe to give me the neighborhoods with the highest lowest smoking rate."
   ]
  },
  {
   "cell_type": "code",
   "execution_count": 34,
   "metadata": {},
   "outputs": [
    {
     "data": {
      "text/plain": [
       "<matplotlib.axes._subplots.AxesSubplot at 0x7f822bc06070>"
      ]
     },
     "execution_count": 34,
     "metadata": {},
     "output_type": "execute_result"
    },
    {
     "data": {
      "image/png": "[encoded data removed]",
      "text/plain": [
       "<Figure size 432x288 with 1 Axes>"
      ]
     },
     "metadata": {
      "needs_background": "light"
     },
     "output_type": "display_data"
    }
   ],
   "source": [
    "sorted_smoking.plot(kind = 'bar')"
   ]
  },
  {
   "cell_type": "markdown",
   "metadata": {},
   "source": [
    "This plot just mainly visualizes the entire dataset in a sorted manor."
   ]
  },
  {
   "cell_type": "markdown",
   "metadata": {},
   "source": [
    "# Conclusion\n",
    "    - From this data, we can see the top 5 neighborhoods with the lowest average smoking rate is Glen Hazel with 0.185913, Point Breeze with 0.191285, Swisshelm Park with 0.192894, Friendship with 0.194225, and Regent Square with 0.195695. The neighorhoods with the highest smoking rates were Esplen with 0.275161, Knoxville with 0.275128, Mt. Oliver with 0.275128, Summer Hill with 0.274942, and Arlington with 0.271798."
   ]
  },
  {
   "cell_type": "code",
   "execution_count": null,
   "metadata": {},
   "outputs": [],
   "source": []
  }
 ],
 "metadata": {
  "kernelspec": {
   "display_name": "Python 3",
   "language": "python",
   "name": "python3"
  },
  "language_info": {
   "codemirror_mode": {
    "name": "ipython",
    "version": 3
   },
   "file_extension": ".py",
   "mimetype": "text/x-python",
   "name": "python",
   "nbconvert_exporter": "python",
   "pygments_lexer": "ipython3",
   "version": "3.8.3"
  }
 },
 "nbformat": 4,
 "nbformat_minor": 4
}
