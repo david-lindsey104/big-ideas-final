{
 "cells": [
  {
   "cell_type": "markdown",
   "metadata": {},
   "source": [
    "# Introduction\n",
    "    To determine the \"best\" neighborhood in Pittsburgh, we decided that the \"best\" neighborhood would be the \"healthiest\". We first started with the metric of \"best neighborhood to eat at\" but quickly found there were not many datasets on food that met our standards. So, we noticed a tag in the WRDC website that said \"Health\". The \"Health\" tag had plenty of datasets to work with, so we chose our metric to be \"the healthiest neighborhood\"."
   ]
  },
  {
   "cell_type": "markdown",
   "metadata": {},
   "source": [
    "# The Metric:\n",
    "    For our metric, \"the healthiest neighborhood\", we looked at datasets from the Western Pennsylvania Regional Data Center and chose three datasets: hospital locations, smoking rates, and fast food locations. First for smoking rates, the more a population of a given neighborhood smokes, the higher their smoking rate will be. If we take the average smoking rate of a census tract given from the WRDC, we can determine which neihborhood has the lowest and hgihest average smoking rate. The neighborhood with the lowest average smoking rate will be deemed the healthiest. Second is the hospitals, looking at the locations of all the hospitals given by the WRDC we can pinpoint which neighborhoods have hospitals. Having a hospital in a given neighborhood increases the overalll primary care access to that neighborhood, thus making it a healthier neighborhood with healthier residents compared to a neighborhood without a hospital. Lastly is the fast food, looking at the fast food locations given by the WRDC dataset, we can determine which neighborhoods have the most fast food establishments. The more fast food establishments in a given neighborhood, the less options for  whole/organic foods for residents in that neighborhood. The less \"healthy\" food there is the less \"healthy\" the neighborhood, and vice versa."
   ]
  },
  {
   "cell_type": "code",
   "execution_count": 1,
   "metadata": {},
   "outputs": [
    {
     "ename": "NameError",
     "evalue": "name 'sorted_smoking' is not defined",
     "output_type": "error",
     "traceback": [
      "\u001b[0;31m---------------------------------------------------------------------------\u001b[0m",
      "\u001b[0;31mNameError\u001b[0m                                 Traceback (most recent call last)",
      "\u001b[0;32m<ipython-input-1-b0bbd3ed12f2>\u001b[0m in \u001b[0;36m<module>\u001b[0;34m\u001b[0m\n\u001b[0;32m----> 1\u001b[0;31m \u001b[0mdisplay\u001b[0m\u001b[0;34m(\u001b[0m\u001b[0msorted_smoking\u001b[0m\u001b[0;34m)\u001b[0m\u001b[0;34m\u001b[0m\u001b[0;34m\u001b[0m\u001b[0m\n\u001b[0m\u001b[1;32m      2\u001b[0m \u001b[0msorted_smoking\u001b[0m\u001b[0;34m.\u001b[0m\u001b[0mplot\u001b[0m\u001b[0;34m(\u001b[0m\u001b[0mkind\u001b[0m \u001b[0;34m=\u001b[0m \u001b[0;34m'bar'\u001b[0m\u001b[0;34m)\u001b[0m\u001b[0;34m\u001b[0m\u001b[0;34m\u001b[0m\u001b[0m\n",
      "\u001b[0;31mNameError\u001b[0m: name 'sorted_smoking' is not defined"
     ]
    }
   ],
   "source": []
  },
  {
   "cell_type": "code",
   "execution_count": null,
   "metadata": {},
   "outputs": [],
   "source": []
  }
 ],
 "metadata": {
  "kernelspec": {
   "display_name": "Python 3",
   "language": "python",
   "name": "python3"
  },
  "language_info": {
   "codemirror_mode": {
    "name": "ipython",
    "version": 3
   },
   "file_extension": ".py",
   "mimetype": "text/x-python",
   "name": "python",
   "nbconvert_exporter": "python",
   "pygments_lexer": "ipython3",
   "version": "3.8.3"
  }
 },
 "nbformat": 4,
 "nbformat_minor": 4
}
